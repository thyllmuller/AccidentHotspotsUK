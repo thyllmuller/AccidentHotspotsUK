{
 "cells": [
  {
   "cell_type": "code",
   "execution_count": 3,
   "id": "7dffb4c5-ce00-4bdd-8d67-f6ee2f70a202",
   "metadata": {},
   "outputs": [
    {
     "data": {
      "application/vnd.jupyter.widget-view+json": {
       "model_id": "a8b745e42b514502875fd22eaf2b8c32",
       "version_major": 2,
       "version_minor": 0
      },
      "text/plain": [
       "VBox(children=(VBox(children=(Label(value='Normal Distribution Confidence Interval Calculator'), FloatSlider(v…"
      ]
     },
     "metadata": {},
     "output_type": "display_data"
    }
   ],
   "source": [
    "# Imports ...\n",
    "from ipywidgets import Label, FloatSlider, FloatText, BoundedIntText, Button, Output, VBox, HBox\n",
    "\n",
    "import scipy.stats as stats\n",
    "import numpy as np\n",
    "\n",
    "# Helpder functions to calculate the confidence intervals ...\n",
    "def normal_distribution_ci(confidence, x_bar, sigma, n):\n",
    "    z_score = stats.norm.interval(confidence)[1]\n",
    "    sigma_over_root_n = sigma / np.sqrt(n)\n",
    "    ci = [x_bar - z_score * sigma_over_root_n, x_bar + z_score * sigma_over_root_n]\n",
    "    return ci\n",
    "\n",
    "def binomial_distribution_ci(confidence, p_hat, n):\n",
    "    z_score = stats.norm.interval(confidence)[1]\n",
    "    rhs = z_score * np.sqrt(p_hat*(1-p_hat))/n\n",
    "    ci = [p_hat - rhs, p_hat + rhs]\n",
    "    return ci\n",
    "\n",
    "# IPython widget controls for confidence intervals of normal and binomial distributions ...\n",
    "normal_label = Label(\"Normal Distribution Confidence Interval Calculator\")\n",
    "normal_confidence = FloatSlider(description=\"confidence\", value=0.95, min=0.5, max=0.99, step=0.01)\n",
    "normal_x_bar_input = FloatText(value=75.7, min=0, max=100000, step=0.01, description='x bar:', disabled=False)\n",
    "normal_sigma_input = FloatText(value=7.3, min=0, max=100000, step=1, description='sigma:', disabled=False)\n",
    "normal_n_input = BoundedIntText(value=30, min=0, max=100000, step=1, description='n:', disabled=False)\n",
    "normal_button = Button(description=\"Calculate\")\n",
    "normal_output = Output()\n",
    "\n",
    "binomial_label = Label(\"Binomial Distribution Confidence Interval Calculator\")\n",
    "binomial_confidence = FloatSlider(description=\"confidence\", value=0.95, min=0.5, max=0.99, step=0.01)\n",
    "binomial_phat = FloatSlider(description=\"p hat\", value=0.78, min=0.0, max=1.0, step=0.01)\n",
    "binomial_n_input = BoundedIntText(value=30, min=0, max=100000, step=1, description='n:', disabled=False)\n",
    "binomial_button = Button(description=\"Calculate\")\n",
    "binomial_output = Output()\n",
    "\n",
    "# Button click event handlers ...\n",
    "def normal_button_on_click(b):\n",
    "    ci = normal_distribution_ci(normal_confidence.value, normal_x_bar_input.value, normal_sigma_input.value, normal_n_input.value)\n",
    "    \n",
    "    normal_output.clear_output()\n",
    "    with normal_output:\n",
    "        print(f\"The population mean lies between {ci[0]:.2f} and {ci[1]:.2f} with {normal_confidence.value:.0%} confidence\")\n",
    "        \n",
    "def binomial_button_on_click(b):\n",
    "    ci = binomial_distribution_ci(binomial_confidence.value, binomial_phat.value, binomial_n_input.value)\n",
    "    \n",
    "    binomial_output.clear_output()\n",
    "    with binomial_output:\n",
    "        print(f\"The population mean lies between {ci[0]:.1%} and {ci[1]:.1%} with {binomial_confidence.value:.0%} confidence\")\n",
    "        \n",
    "normal_button.on_click(normal_button_on_click)\n",
    "binomial_button.on_click(binomial_button_on_click)\n",
    "\n",
    "vbox_normal = VBox([normal_label, normal_confidence, normal_x_bar_input, normal_sigma_input, normal_n_input, normal_button, normal_output])\n",
    "vbox_binomial = VBox([binomial_label, binomial_confidence, binomial_phat, binomial_n_input, binomial_button, binomial_output])\n",
    "\n",
    "VBox([vbox_normal, vbox_binomial])"
   ]
  },
  {
   "cell_type": "code",
   "execution_count": null,
   "id": "d8620370-58e2-4871-84c9-9fdece7d438c",
   "metadata": {},
   "outputs": [],
   "source": []
  }
 ],
 "metadata": {
  "kernelspec": {
   "display_name": "Python 3 (ipykernel)",
   "language": "python",
   "name": "python3"
  },
  "language_info": {
   "codemirror_mode": {
    "name": "ipython",
    "version": 3
   },
   "file_extension": ".py",
   "mimetype": "text/x-python",
   "name": "python",
   "nbconvert_exporter": "python",
   "pygments_lexer": "ipython3",
   "version": "3.9.7"
  }
 },
 "nbformat": 4,
 "nbformat_minor": 5
}
